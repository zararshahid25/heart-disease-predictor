{
 "cells": [
  {
   "cell_type": "markdown",
   "id": "003e4d75",
   "metadata": {},
   "source": [
    "# Heart Disease Prediction using Machine Learning\n",
    "\n",
    "Internship Project: Digital Empowerment Network (ML Week 1)  \n",
    "Mentor: Hussain Shoaib  \n",
    "Student: Zarar Shahid  \n",
    "\n",
    "### 🧠 Objective:\n",
    "To understand and implement a complete ML workflow on a real-world dataset.  \n",
    "We’ll explore, preprocess, analyze, model, evaluate, and compare different algorithms.\n",
    "\n",
    "📅 Deadline: July 23, 2025"
   ]
  },
  {
   "cell_type": "markdown",
   "id": "aa4eee89",
   "metadata": {},
   "source": [
    "## 1. Import Libraries\n",
    "\n",
    "Import all required libraries such as pandas, numpy, matplotlib, seaborn, scikit-learn modules, joblib, and warnings."
   ]
  },
  {
   "cell_type": "code",
   "execution_count": null,
   "id": "18eb3971",
   "metadata": {},
   "outputs": [
    {
     "name": "stdout",
     "output_type": "stream",
     "text": [
      "Requirement already satisfied: pandas in c:\\users\\hp\\appdata\\local\\packages\\pythonsoftwarefoundation.python.3.11_qbz5n2kfra8p0\\localcache\\local-packages\\python311\\site-packages (2.3.1)\n",
      "Requirement already satisfied: matplotlib in c:\\users\\hp\\appdata\\local\\packages\\pythonsoftwarefoundation.python.3.11_qbz5n2kfra8p0\\localcache\\local-packages\\python311\\site-packages (3.10.3)\n",
      "Requirement already satisfied: numpy>=1.23.2 in c:\\users\\hp\\appdata\\local\\packages\\pythonsoftwarefoundation.python.3.11_qbz5n2kfra8p0\\localcache\\local-packages\\python311\\site-packages (from pandas) (2.3.1)\n",
      "Requirement already satisfied: python-dateutil>=2.8.2 in c:\\users\\hp\\appdata\\local\\packages\\pythonsoftwarefoundation.python.3.11_qbz5n2kfra8p0\\localcache\\local-packages\\python311\\site-packages (from pandas) (2.9.0.post0)\n",
      "Requirement already satisfied: pytz>=2020.1 in c:\\users\\hp\\appdata\\local\\packages\\pythonsoftwarefoundation.python.3.11_qbz5n2kfra8p0\\localcache\\local-packages\\python311\\site-packages (from pandas) (2025.2)\n",
      "Requirement already satisfied: tzdata>=2022.7 in c:\\users\\hp\\appdata\\local\\packages\\pythonsoftwarefoundation.python.3.11_qbz5n2kfra8p0\\localcache\\local-packages\\python311\\site-packages (from pandas) (2025.2)\n",
      "Requirement already satisfied: contourpy>=1.0.1 in c:\\users\\hp\\appdata\\local\\packages\\pythonsoftwarefoundation.python.3.11_qbz5n2kfra8p0\\localcache\\local-packages\\python311\\site-packages (from matplotlib) (1.3.2)\n",
      "Requirement already satisfied: cycler>=0.10 in c:\\users\\hp\\appdata\\local\\packages\\pythonsoftwarefoundation.python.3.11_qbz5n2kfra8p0\\localcache\\local-packages\\python311\\site-packages (from matplotlib) (0.12.1)\n",
      "Requirement already satisfied: fonttools>=4.22.0 in c:\\users\\hp\\appdata\\local\\packages\\pythonsoftwarefoundation.python.3.11_qbz5n2kfra8p0\\localcache\\local-packages\\python311\\site-packages (from matplotlib) (4.59.0)\n",
      "Requirement already satisfied: kiwisolver>=1.3.1 in c:\\users\\hp\\appdata\\local\\packages\\pythonsoftwarefoundation.python.3.11_qbz5n2kfra8p0\\localcache\\local-packages\\python311\\site-packages (from matplotlib) (1.4.8)\n",
      "Requirement already satisfied: packaging>=20.0 in c:\\users\\hp\\appdata\\local\\packages\\pythonsoftwarefoundation.python.3.11_qbz5n2kfra8p0\\localcache\\local-packages\\python311\\site-packages (from matplotlib) (25.0)\n",
      "Requirement already satisfied: pillow>=8 in c:\\users\\hp\\appdata\\local\\packages\\pythonsoftwarefoundation.python.3.11_qbz5n2kfra8p0\\localcache\\local-packages\\python311\\site-packages (from matplotlib) (11.3.0)\n",
      "Requirement already satisfied: pyparsing>=2.3.1 in c:\\users\\hp\\appdata\\local\\packages\\pythonsoftwarefoundation.python.3.11_qbz5n2kfra8p0\\localcache\\local-packages\\python311\\site-packages (from matplotlib) (3.2.3)\n",
      "Requirement already satisfied: six>=1.5 in c:\\users\\hp\\appdata\\local\\packages\\pythonsoftwarefoundation.python.3.11_qbz5n2kfra8p0\\localcache\\local-packages\\python311\\site-packages (from python-dateutil>=2.8.2->pandas) (1.17.0)\n",
      "Note: you may need to restart the kernel to use updated packages.\n"
     ]
    },
    {
     "name": "stderr",
     "output_type": "stream",
     "text": [
      "\n",
      "[notice] A new release of pip is available: 24.0 -> 25.1.1\n",
      "[notice] To update, run: C:\\Users\\HP\\AppData\\Local\\Microsoft\\WindowsApps\\PythonSoftwareFoundation.Python.3.11_qbz5n2kfra8p0\\python.exe -m pip install --upgrade pip\n"
     ]
    }
   ],
   "source": [
    "import pandas as pd\n",
    "import numpy as np\n",
    "import matplotlib.pyplot as plt\n",
    "import seaborn as sns\n",
    "\n",
    "from sklearn.model_selection import train_test_split, GridSearchCV\n",
    "from sklearn.preprocessing import StandardScaler\n",
    "from sklearn.tree import DecisionTreeClassifier\n",
    "from sklearn.ensemble import RandomForestClassifier\n",
    "from sklearn.linear_model import LogisticRegression\n",
    "from sklearn.svm import SVC\n",
    "from sklearn.metrics import accuracy_score, precision_score, recall_score, f1_score, confusion_matrix, classification_report\n",
    "\n",
    "import joblib\n",
    "import warnings\n",
    "warnings.filterwarnings('ignore')"
   ]
  },
  {
   "cell_type": "markdown",
   "id": "98f8deeb",
   "metadata": {},
   "source": [
    "## 2. Load Dataset\n",
    "\n",
    "Load the heart disease dataset using pandas and display the first few rows."
   ]
  },
  {
   "cell_type": "code",
   "execution_count": 21,
   "id": "4724d5bd",
   "metadata": {},
   "outputs": [
    {
     "data": {
      "text/html": [
       "<div>\n",
       "<style scoped>\n",
       "    .dataframe tbody tr th:only-of-type {\n",
       "        vertical-align: middle;\n",
       "    }\n",
       "\n",
       "    .dataframe tbody tr th {\n",
       "        vertical-align: top;\n",
       "    }\n",
       "\n",
       "    .dataframe thead th {\n",
       "        text-align: right;\n",
       "    }\n",
       "</style>\n",
       "<table border=\"1\" class=\"dataframe\">\n",
       "  <thead>\n",
       "    <tr style=\"text-align: right;\">\n",
       "      <th></th>\n",
       "      <th>Age</th>\n",
       "      <th>Sex</th>\n",
       "      <th>ChestPainType</th>\n",
       "      <th>RestingBP</th>\n",
       "      <th>Cholesterol</th>\n",
       "      <th>FastingBS</th>\n",
       "      <th>RestingECG</th>\n",
       "      <th>MaxHR</th>\n",
       "      <th>ExerciseAngina</th>\n",
       "      <th>Oldpeak</th>\n",
       "      <th>ST_Slope</th>\n",
       "      <th>HeartDisease</th>\n",
       "    </tr>\n",
       "  </thead>\n",
       "  <tbody>\n",
       "    <tr>\n",
       "      <th>0</th>\n",
       "      <td>40</td>\n",
       "      <td>M</td>\n",
       "      <td>ATA</td>\n",
       "      <td>140</td>\n",
       "      <td>289</td>\n",
       "      <td>0</td>\n",
       "      <td>Normal</td>\n",
       "      <td>172</td>\n",
       "      <td>N</td>\n",
       "      <td>0.0</td>\n",
       "      <td>Up</td>\n",
       "      <td>0</td>\n",
       "    </tr>\n",
       "    <tr>\n",
       "      <th>1</th>\n",
       "      <td>49</td>\n",
       "      <td>F</td>\n",
       "      <td>NAP</td>\n",
       "      <td>160</td>\n",
       "      <td>180</td>\n",
       "      <td>0</td>\n",
       "      <td>Normal</td>\n",
       "      <td>156</td>\n",
       "      <td>N</td>\n",
       "      <td>1.0</td>\n",
       "      <td>Flat</td>\n",
       "      <td>1</td>\n",
       "    </tr>\n",
       "    <tr>\n",
       "      <th>2</th>\n",
       "      <td>37</td>\n",
       "      <td>M</td>\n",
       "      <td>ATA</td>\n",
       "      <td>130</td>\n",
       "      <td>283</td>\n",
       "      <td>0</td>\n",
       "      <td>ST</td>\n",
       "      <td>98</td>\n",
       "      <td>N</td>\n",
       "      <td>0.0</td>\n",
       "      <td>Up</td>\n",
       "      <td>0</td>\n",
       "    </tr>\n",
       "    <tr>\n",
       "      <th>3</th>\n",
       "      <td>48</td>\n",
       "      <td>F</td>\n",
       "      <td>ASY</td>\n",
       "      <td>138</td>\n",
       "      <td>214</td>\n",
       "      <td>0</td>\n",
       "      <td>Normal</td>\n",
       "      <td>108</td>\n",
       "      <td>Y</td>\n",
       "      <td>1.5</td>\n",
       "      <td>Flat</td>\n",
       "      <td>1</td>\n",
       "    </tr>\n",
       "    <tr>\n",
       "      <th>4</th>\n",
       "      <td>54</td>\n",
       "      <td>M</td>\n",
       "      <td>NAP</td>\n",
       "      <td>150</td>\n",
       "      <td>195</td>\n",
       "      <td>0</td>\n",
       "      <td>Normal</td>\n",
       "      <td>122</td>\n",
       "      <td>N</td>\n",
       "      <td>0.0</td>\n",
       "      <td>Up</td>\n",
       "      <td>0</td>\n",
       "    </tr>\n",
       "  </tbody>\n",
       "</table>\n",
       "</div>"
      ],
      "text/plain": [
       "   Age Sex ChestPainType  RestingBP  Cholesterol  FastingBS RestingECG  MaxHR  \\\n",
       "0   40   M           ATA        140          289          0     Normal    172   \n",
       "1   49   F           NAP        160          180          0     Normal    156   \n",
       "2   37   M           ATA        130          283          0         ST     98   \n",
       "3   48   F           ASY        138          214          0     Normal    108   \n",
       "4   54   M           NAP        150          195          0     Normal    122   \n",
       "\n",
       "  ExerciseAngina  Oldpeak ST_Slope  HeartDisease  \n",
       "0              N      0.0       Up             0  \n",
       "1              N      1.0     Flat             1  \n",
       "2              N      0.0       Up             0  \n",
       "3              Y      1.5     Flat             1  \n",
       "4              N      0.0       Up             0  "
      ]
     },
     "execution_count": 21,
     "metadata": {},
     "output_type": "execute_result"
    }
   ],
   "source": [
    "# Load the Heart Disease dataset\n",
    "df = pd.read_csv(\"heart.csv\")  # Ensure the file is in the same directory\n",
    "\n",
    "# Display top 5 rows\n",
    "df.head()"
   ]
  },
  {
   "cell_type": "markdown",
   "id": "a71286bf",
   "metadata": {},
   "source": [
    "## 3. Basic Info and Data Inspection\n",
    "\n",
    "Check the shape, info, and missing values in the dataset."
   ]
  },
  {
   "cell_type": "code",
   "execution_count": 22,
   "id": "74e657f4",
   "metadata": {},
   "outputs": [
    {
     "name": "stdout",
     "output_type": "stream",
     "text": [
      "Dataset Shape: (918, 12)\n",
      "<class 'pandas.core.frame.DataFrame'>\n",
      "RangeIndex: 918 entries, 0 to 917\n",
      "Data columns (total 12 columns):\n",
      " #   Column          Non-Null Count  Dtype  \n",
      "---  ------          --------------  -----  \n",
      " 0   Age             918 non-null    int64  \n",
      " 1   Sex             918 non-null    object \n",
      " 2   ChestPainType   918 non-null    object \n",
      " 3   RestingBP       918 non-null    int64  \n",
      " 4   Cholesterol     918 non-null    int64  \n",
      " 5   FastingBS       918 non-null    int64  \n",
      " 6   RestingECG      918 non-null    object \n",
      " 7   MaxHR           918 non-null    int64  \n",
      " 8   ExerciseAngina  918 non-null    object \n",
      " 9   Oldpeak         918 non-null    float64\n",
      " 10  ST_Slope        918 non-null    object \n",
      " 11  HeartDisease    918 non-null    int64  \n",
      "dtypes: float64(1), int64(6), object(5)\n",
      "memory usage: 86.2+ KB\n",
      "Missing values per column:\n",
      "Age               0\n",
      "Sex               0\n",
      "ChestPainType     0\n",
      "RestingBP         0\n",
      "Cholesterol       0\n",
      "FastingBS         0\n",
      "RestingECG        0\n",
      "MaxHR             0\n",
      "ExerciseAngina    0\n",
      "Oldpeak           0\n",
      "ST_Slope          0\n",
      "HeartDisease      0\n",
      "dtype: int64\n"
     ]
    }
   ],
   "source": [
    "# Dataset shape and info\n",
    "print(\"Dataset Shape:\", df.shape)\n",
    "df.info()\n",
    "\n",
    "# Check for missing values\n",
    "print(\"Missing values per column:\")\n",
    "print(df.isnull().sum())"
   ]
  },
  {
   "cell_type": "markdown",
   "id": "54fc4bb6",
   "metadata": {},
   "source": [
    "## 4. Data Preprocessing\n",
    "\n",
    "Separate features and target, scale features, and split the data into training and testing sets."
   ]
  },
  {
   "cell_type": "code",
   "execution_count": 23,
   "id": "53ee6f64",
   "metadata": {},
   "outputs": [
    {
     "name": "stdout",
     "output_type": "stream",
     "text": [
      "Columns in dataset: Index(['Age', 'Sex', 'ChestPainType', 'RestingBP', 'Cholesterol', 'FastingBS',\n",
      "       'RestingECG', 'MaxHR', 'ExerciseAngina', 'Oldpeak', 'ST_Slope',\n",
      "       'HeartDisease'],\n",
      "      dtype='object')\n",
      "Training size: (734, 20)\n",
      "Testing size: (184, 20)\n"
     ]
    }
   ],
   "source": [
    "# Check column names to find the target column\n",
    "print(\"Columns in dataset:\", df.columns)\n",
    "\n",
    "# Use the correct target column name below\n",
    "X = df.drop(df.columns[-1], axis=1)  # assumes target is the last column\n",
    "y = df[df.columns[-1]]\n",
    "\n",
    "# Encode categorical columns automatically\n",
    "X_encoded = pd.get_dummies(X)\n",
    "\n",
    "# Feature Scaling\n",
    "scaler = StandardScaler()\n",
    "X_scaled = scaler.fit_transform(X_encoded)\n",
    "\n",
    "# Train-Test Split\n",
    "X_train, X_test, y_train, y_test = train_test_split(\n",
    "    X_scaled, y, test_size=0.2, random_state=42, stratify=y\n",
    ")\n",
    "\n",
    "print(\"Training size:\", X_train.shape)\n",
    "print(\"Testing size:\", X_test.shape)"
   ]
  },
  {
   "cell_type": "markdown",
   "id": "abf15ba4",
   "metadata": {},
   "source": [
    "## 5. Exploratory Data Analysis (EDA)\n",
    "\n",
    "Visualize feature correlations using a heatmap."
   ]
  },
  {
   "cell_type": "code",
   "execution_count": 24,
   "id": "0bbacf72",
   "metadata": {},
   "outputs": [
    {
     "data": {
      "image/png": "[encoded data removed]",
      "text/plain": [
       "<Figure size 1200x1000 with 2 Axes>"
      ]
     },
     "metadata": {},
     "output_type": "display_data"
    }
   ],
   "source": [
    "# Correlation Heatmap (numeric columns only)\n",
    "numeric_df = df.select_dtypes(include=[np.number])\n",
    "plt.figure(figsize=(12,10))\n",
    "sns.heatmap(numeric_df.corr(), annot=True, cmap=\"coolwarm\", fmt=\".2f\")\n",
    "plt.title(\"Correlation Heatmap of Heart Disease Features\")\n",
    "plt.show()"
   ]
  },
  {
   "cell_type": "markdown",
   "id": "93be469b",
   "metadata": {},
   "source": [
    "## 6. Model Evaluation Function\n",
    "\n",
    "Define a function to evaluate models using accuracy, precision, recall, F1 score, confusion matrix, and classification report."
   ]
  },
  {
   "cell_type": "code",
   "execution_count": 25,
   "id": "0140ee0e",
   "metadata": {},
   "outputs": [],
   "source": [
    "def evaluate_model(model, X_test, y_test):\n",
    "    y_pred = model.predict(X_test)\n",
    "    print(\"Accuracy:\", accuracy_score(y_test, y_pred))\n",
    "    print(\"Precision:\", precision_score(y_test, y_pred))\n",
    "    print(\"Recall:\", recall_score(y_test, y_pred))\n",
    "    print(\"F1 Score:\", f1_score(y_test, y_pred))\n",
    "    print(\"Confusion Matrix:\\n\", confusion_matrix(y_test, y_pred))\n",
    "    print(\"Classification Report:\\n\", classification_report(y_test, y_pred))"
   ]
  },
  {
   "cell_type": "markdown",
   "id": "3ca2388e",
   "metadata": {},
   "source": [
    "## 7. Decision Tree Model\n",
    "\n",
    "Train and evaluate a Decision Tree classifier."
   ]
  },
  {
   "cell_type": "code",
   "execution_count": 26,
   "id": "bb22f6d3",
   "metadata": {},
   "outputs": [
    {
     "name": "stdout",
     "output_type": "stream",
     "text": [
      "🎯 Decision Tree Results\n",
      "Accuracy: 0.7934782608695652\n",
      "Precision: 0.8137254901960784\n",
      "Recall: 0.8137254901960784\n",
      "F1 Score: 0.8137254901960784\n",
      "Confusion Matrix:\n",
      " [[63 19]\n",
      " [19 83]]\n",
      "Classification Report:\n",
      "               precision    recall  f1-score   support\n",
      "\n",
      "           0       0.77      0.77      0.77        82\n",
      "           1       0.81      0.81      0.81       102\n",
      "\n",
      "    accuracy                           0.79       184\n",
      "   macro avg       0.79      0.79      0.79       184\n",
      "weighted avg       0.79      0.79      0.79       184\n",
      "\n"
     ]
    }
   ],
   "source": [
    "dt = DecisionTreeClassifier(random_state=42)\n",
    "dt.fit(X_train, y_train)\n",
    "print(\"🎯 Decision Tree Results\")\n",
    "evaluate_model(dt, X_test, y_test)"
   ]
  },
  {
   "cell_type": "markdown",
   "id": "d6410ef9",
   "metadata": {},
   "source": [
    "## 8. Random Forest Model\n",
    "\n",
    "Train and evaluate a Random Forest classifier."
   ]
  },
  {
   "cell_type": "code",
   "execution_count": 27,
   "id": "e25d2a4b",
   "metadata": {},
   "outputs": [
    {
     "name": "stdout",
     "output_type": "stream",
     "text": [
      "🎯 Random Forest Results\n",
      "Accuracy: 0.8913043478260869\n",
      "Precision: 0.8942307692307693\n",
      "Recall: 0.9117647058823529\n",
      "F1 Score: 0.9029126213592233\n",
      "Confusion Matrix:\n",
      " [[71 11]\n",
      " [ 9 93]]\n",
      "Classification Report:\n",
      "               precision    recall  f1-score   support\n",
      "\n",
      "           0       0.89      0.87      0.88        82\n",
      "           1       0.89      0.91      0.90       102\n",
      "\n",
      "    accuracy                           0.89       184\n",
      "   macro avg       0.89      0.89      0.89       184\n",
      "weighted avg       0.89      0.89      0.89       184\n",
      "\n"
     ]
    }
   ],
   "source": [
    "rf = RandomForestClassifier(random_state=42)\n",
    "rf.fit(X_train, y_train)\n",
    "print(\"🎯 Random Forest Results\")\n",
    "evaluate_model(rf, X_test, y_test)"
   ]
  },
  {
   "cell_type": "markdown",
   "id": "d143eeb9",
   "metadata": {},
   "source": [
    "## 9. Logistic Regression Model\n",
    "\n",
    "Train and evaluate a Logistic Regression model."
   ]
  },
  {
   "cell_type": "code",
   "execution_count": 28,
   "id": "3bbbdd34",
   "metadata": {},
   "outputs": [
    {
     "name": "stdout",
     "output_type": "stream",
     "text": [
      "🎯 Logistic Regression Results\n",
      "Accuracy: 0.8858695652173914\n",
      "Precision: 0.8715596330275229\n",
      "Recall: 0.9313725490196079\n",
      "F1 Score: 0.9004739336492891\n",
      "Confusion Matrix:\n",
      " [[68 14]\n",
      " [ 7 95]]\n",
      "Classification Report:\n",
      "               precision    recall  f1-score   support\n",
      "\n",
      "           0       0.91      0.83      0.87        82\n",
      "           1       0.87      0.93      0.90       102\n",
      "\n",
      "    accuracy                           0.89       184\n",
      "   macro avg       0.89      0.88      0.88       184\n",
      "weighted avg       0.89      0.89      0.89       184\n",
      "\n"
     ]
    }
   ],
   "source": [
    "lr = LogisticRegression(max_iter=1000, random_state=42)\n",
    "lr.fit(X_train, y_train)\n",
    "print(\"🎯 Logistic Regression Results\")\n",
    "evaluate_model(lr, X_test, y_test)"
   ]
  },
  {
   "cell_type": "markdown",
   "id": "fe3a402d",
   "metadata": {},
   "source": [
    "## 10. Support Vector Machine (SVM) Model\n",
    "\n",
    "Train and evaluate a Support Vector Machine classifier."
   ]
  },
  {
   "cell_type": "code",
   "execution_count": 29,
   "id": "599769c3",
   "metadata": {},
   "outputs": [
    {
     "name": "stdout",
     "output_type": "stream",
     "text": [
      "🎯 SVM Results\n",
      "Accuracy: 0.8858695652173914\n",
      "Precision: 0.8715596330275229\n",
      "Recall: 0.9313725490196079\n",
      "F1 Score: 0.9004739336492891\n",
      "Confusion Matrix:\n",
      " [[68 14]\n",
      " [ 7 95]]\n",
      "Classification Report:\n",
      "               precision    recall  f1-score   support\n",
      "\n",
      "           0       0.91      0.83      0.87        82\n",
      "           1       0.87      0.93      0.90       102\n",
      "\n",
      "    accuracy                           0.89       184\n",
      "   macro avg       0.89      0.88      0.88       184\n",
      "weighted avg       0.89      0.89      0.89       184\n",
      "\n"
     ]
    }
   ],
   "source": [
    "svm = SVC(random_state=42)\n",
    "svm.fit(X_train, y_train)\n",
    "print(\"🎯 SVM Results\")\n",
    "evaluate_model(svm, X_test, y_test)"
   ]
  },
  {
   "cell_type": "markdown",
   "id": "ca3e8335",
   "metadata": {},
   "source": [
    "## 11. Hyperparameter Tuning with GridSearchCV\n",
    "\n",
    "Use GridSearchCV to tune Random Forest hyperparameters and evaluate the best model."
   ]
  },
  {
   "cell_type": "code",
   "execution_count": 30,
   "id": "32b83657",
   "metadata": {},
   "outputs": [
    {
     "name": "stdout",
     "output_type": "stream",
     "text": [
      "✅ Best Parameters: {'max_depth': 5, 'n_estimators': 100}\n",
      "🎯 Tuned Random Forest Results\n",
      "Accuracy: 0.8967391304347826\n",
      "Precision: 0.8807339449541285\n",
      "Recall: 0.9411764705882353\n",
      "F1 Score: 0.909952606635071\n",
      "Confusion Matrix:\n",
      " [[69 13]\n",
      " [ 6 96]]\n",
      "Classification Report:\n",
      "               precision    recall  f1-score   support\n",
      "\n",
      "           0       0.92      0.84      0.88        82\n",
      "           1       0.88      0.94      0.91       102\n",
      "\n",
      "    accuracy                           0.90       184\n",
      "   macro avg       0.90      0.89      0.89       184\n",
      "weighted avg       0.90      0.90      0.90       184\n",
      "\n"
     ]
    }
   ],
   "source": [
    "param_grid = {\n",
    "    'n_estimators': [50, 100, 150],\n",
    "    'max_depth': [None, 5, 10]\n",
    "}\n",
    "\n",
    "grid = GridSearchCV(\n",
    "    RandomForestClassifier(random_state=42),\n",
    "    param_grid,\n",
    "    cv=5,\n",
    "    scoring='accuracy'\n",
    ")\n",
    "grid.fit(X_train, y_train)\n",
    "\n",
    "print(\"✅ Best Parameters:\", grid.best_params_)\n",
    "print(\"🎯 Tuned Random Forest Results\")\n",
    "evaluate_model(grid.best_estimator_, X_test, y_test)"
   ]
  },
  {
   "cell_type": "markdown",
   "id": "b96ae6b9",
   "metadata": {},
   "source": [
    "## 12. Save Best Model\n",
    "\n",
    "Save the best trained model using joblib."
   ]
  },
  {
   "cell_type": "code",
   "execution_count": 31,
   "id": "ebcdbeb2",
   "metadata": {},
   "outputs": [
    {
     "name": "stdout",
     "output_type": "stream",
     "text": [
      "💾 Model saved as 'best_rf_model.pkl'\n"
     ]
    }
   ],
   "source": [
    "joblib.dump(grid.best_estimator_, 'best_rf_model.pkl')\n",
    "print(\"💾 Model saved as 'best_rf_model.pkl'\")"
   ]
  }
 ],
 "metadata": {
  "kernelspec": {
   "display_name": "Python 3",
   "language": "python",
   "name": "python3"
  },
  "language_info": {
   "codemirror_mode": {
    "name": "ipython",
    "version": 3
   },
   "file_extension": ".py",
   "mimetype": "text/x-python",
   "name": "python",
   "nbconvert_exporter": "python",
   "pygments_lexer": "ipython3",
   "version": "3.11.9"
  }
 },
 "nbformat": 4,
 "nbformat_minor": 5
}
